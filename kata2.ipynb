{
 "cells": [
  {
   "cell_type": "markdown",
   "metadata": {},
   "source": [
    "# Kata 3 Logica Booleana"
   ]
  },
  {
   "cell_type": "markdown",
   "metadata": {},
   "source": [
    "# Problema1"
   ]
  },
  {
   "cell_type": "code",
   "execution_count": null,
   "metadata": {},
   "outputs": [],
   "source": [
    "asteroide = 49\n",
    "if asteroide >25: \n",
    "print (\" alerta un asteroide se acerca a velocidades peligrosas\")\n",
    "else:\n",
    "Print (\"sigue con tu dia\")"
   ]
  },
  {
   "cell_type": "markdown",
   "metadata": {},
   "source": [
    "# Problema 2"
   ]
  },
  {
   "cell_type": "code",
   "execution_count": 8,
   "metadata": {},
   "outputs": [
    {
     "ename": "SyntaxError",
     "evalue": "invalid syntax (667313548.py, line 6)",
     "output_type": "error",
     "traceback": [
      "\u001b[1;36m  Input \u001b[1;32mIn [8]\u001b[1;36m\u001b[0m\n\u001b[1;33m    else print (\"nada que ver aqui\")\u001b[0m\n\u001b[1;37m    ^\u001b[0m\n\u001b[1;31mSyntaxError\u001b[0m\u001b[1;31m:\u001b[0m invalid syntax\n"
     ]
    }
   ],
   "source": [
    "asteroide = 19 \n",
    "if asteroide > 20:\n",
    "    print (\"look up hay una luz magica en el cielo\")\n",
    "    if asteroide == 20:\n",
    "        print(\"look up hay una luz magica en ell cielo\")\n",
    "         print (\"nada que ver aqui\") \n"
   ]
  },
  {
   "cell_type": "markdown",
   "metadata": {},
   "source": [
    "# Problema 3"
   ]
  },
  {
   "cell_type": "code",
   "execution_count": 1,
   "metadata": {},
   "outputs": [
    {
     "ename": "SyntaxError",
     "evalue": "expected ':' (4620216.py, line 3)",
     "output_type": "error",
     "traceback": [
      "\u001b[1;36m  Input \u001b[1;32mIn [1]\u001b[1;36m\u001b[0m\n\u001b[1;33m    if velocidad_asteroide > 25 and tamano_asteroide> 25\u001b[0m\n\u001b[1;37m                                                        ^\u001b[0m\n\u001b[1;31mSyntaxError\u001b[0m\u001b[1;31m:\u001b[0m expected ':'\n"
     ]
    }
   ],
   "source": [
    "Velocidad_asteroide = 25 \n",
    "tamano_asteroide = 40 \n",
    "if velocidad_asteroide > 25 and tamano_asteroide> 25\n",
    "    print (\"alerta un asteroide muy peligroso se acerca a la tierra\")\n",
    "    elif velocidad_asteroide >= 20:\n",
    "        print(\"look up hay una luz magica en ell cielo\")\n",
    "        elif tamano_asteride < 25\n",
    "         print (\"nada que ver aqui\") \n",
    "         else:\n",
    "             print (\"nada que ver aqui\")"
   ]
  }
 ],
 "metadata": {
  "interpreter": {
   "hash": "d384d1642b0f5f45a69080b79971b2232e37b80b0310be7a84409fa7df96a657"
  },
  "kernelspec": {
   "display_name": "Python 3.10.2 64-bit",
   "language": "python",
   "name": "python3"
  },
  "language_info": {
   "codemirror_mode": {
    "name": "ipython",
    "version": 3
   },
   "file_extension": ".py",
   "mimetype": "text/x-python",
   "name": "python",
   "nbconvert_exporter": "python",
   "pygments_lexer": "ipython3",
   "version": "3.10.2"
  },
  "orig_nbformat": 4
 },
 "nbformat": 4,
 "nbformat_minor": 2
}
